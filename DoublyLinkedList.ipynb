{
 "cells": [
  {
   "cell_type": "code",
   "execution_count": 3,
   "metadata": {},
   "outputs": [],
   "source": [
    "class Node:\n",
    "    def __init__(self,data):\n",
    "        self.data = data\n",
    "        self.next = None\n",
    "        self.prev = None"
   ]
  },
  {
   "cell_type": "code",
   "execution_count": 535,
   "metadata": {},
   "outputs": [],
   "source": [
    "class LinkedList:\n",
    "    \n",
    "    def __init__(self,head=None,tail = None):\n",
    "        self.head = head\n",
    "        self.tail = tail\n",
    "    \n",
    "    def create(self):\n",
    "        print(\"Enter the N value: \")\n",
    "        n = int(input())\n",
    "        print('Enter data\\'s: ')\n",
    "        for i in range(n):\n",
    "            new_node = Node(input())\n",
    "            if self.head is None:\n",
    "                new_node.next = self.head\n",
    "                self.head = new_node\n",
    "                self.tail = new_node\n",
    "            else:\n",
    "                ptr = self.head\n",
    "                tail_pointer = self.tail\n",
    "                while(ptr.next!=None):\n",
    "                    ptr = ptr.next\n",
    "                ptr.next = new_node\n",
    "                new_node.prev = ptr\n",
    "                self.tail = new_node\n",
    "        \n",
    "    def clear_list(self):\n",
    "        self.head = None\n",
    "        self.tail = None\n",
    "\n",
    "    def length(self):\n",
    "        l = 0\n",
    "        ptr = self.head\n",
    "        while(ptr!=None):\n",
    "            ptr = ptr.next\n",
    "            l += 1\n",
    "        print(f'Length of a list is : {l}')\n",
    "        \n",
    "    def forward_print(self):\n",
    "        head = self.head\n",
    "        while(head!=None):\n",
    "            print(head.data,end='')\n",
    "            print('\\t',end='')\n",
    "            head = head.next\n",
    "        print(\"\\n\")\n",
    "        \n",
    "    def backward_print(self):\n",
    "        tail_iter = self.tail\n",
    "        while(tail_iter!=None):\n",
    "            print(tail_iter.data,end='')\n",
    "            print('\\t',end='')\n",
    "            tail_iter = tail_iter.prev\n",
    "    \n",
    "    def append_list(self):\n",
    "        print(\"Enter an element to append it to the linked list\")\n",
    "        new_node = Node(input())\n",
    "        tail = self.tail\n",
    "        tail.next = new_node\n",
    "        new_node.prev = tail\n",
    "        self.tail = new_node\n",
    "\n",
    "    def insert_after(self):\n",
    "        ptr = self.head\n",
    "        tail = self.tail\n",
    "        \n",
    "        if self.head is None:\n",
    "            print('Enter the data to insert: ')\n",
    "            new_node = Node(input())\n",
    "            ptr = new_node\n",
    "            self.head = ptr\n",
    "            self.tail = ptr\n",
    "            \n",
    "        else:\n",
    "            print(\"Enter the Previous Node Data to insert NewNode into the linked list: \")\n",
    "            index = input()\n",
    "            print(\"Enter an element to insert: \")\n",
    "            new_node = Node(input())\n",
    "            while(ptr.data != index):\n",
    "                ptr = ptr.next\n",
    "            if tail.data == index:\n",
    "                new_node.prev = ptr\n",
    "                ptr.next = new_node\n",
    "                self.tail = new_node\n",
    "            else:\n",
    "                new_node.prev = ptr\n",
    "                new_node.next = ptr.next\n",
    "                ptr.next.prev = new_node\n",
    "                ptr.next = new_node\n",
    "\n",
    "    def delete_node(self):\n",
    "        if self.head is None:\n",
    "            print('Cannot Delete Empty list')\n",
    "        else:\n",
    "            print(\"Enter the node to delete: \")\n",
    "            node = input()\n",
    "            ptr =  self.head\n",
    "            tail = self.tail\n",
    "            \n",
    "            if ptr.data == node and ptr.next == None and ptr.prev == None:\n",
    "                self.head = None\n",
    "                self.tail = None\n",
    "\n",
    "            elif node == ptr.data:\n",
    "                ptr = ptr.next\n",
    "                ptr.prev = None\n",
    "                self.head = ptr\n",
    "\n",
    "            elif node == tail.data:\n",
    "                tail = tail.prev\n",
    "                tail.next = None\n",
    "                self.tail = tail\n",
    "            else:\n",
    "                try:\n",
    "                    while(ptr.data!=node and ptr.data!=None):\n",
    "                        ptr = ptr.next\n",
    "                    ptr.prev.next = ptr.next\n",
    "                    ptr.next.prev = ptr.prev\n",
    "                except AttributeError:\n",
    "                    print('Given Node is Not in the List')\n"
   ]
  },
  {
   "cell_type": "code",
   "execution_count": 536,
   "metadata": {},
   "outputs": [
    {
     "name": "stdout",
     "output_type": "stream",
     "text": [
      "Enter the N value: \n",
      "3\n",
      "Enter data's: \n",
      "1\n",
      "2\n",
      "3\n"
     ]
    }
   ],
   "source": [
    "llist = LinkedList()\n",
    "llist.create()"
   ]
  },
  {
   "cell_type": "code",
   "execution_count": 537,
   "metadata": {},
   "outputs": [
    {
     "name": "stdout",
     "output_type": "stream",
     "text": [
      "1\t2\t3\t\n",
      "\n",
      "3\t2\t1\t"
     ]
    }
   ],
   "source": [
    "llist.forward_print()\n",
    "llist.backward_print()"
   ]
  },
  {
   "cell_type": "code",
   "execution_count": 538,
   "metadata": {},
   "outputs": [
    {
     "name": "stdout",
     "output_type": "stream",
     "text": [
      "Enter an element to append it to the linked list\n",
      "4\n"
     ]
    }
   ],
   "source": [
    "llist.append_list()"
   ]
  },
  {
   "cell_type": "code",
   "execution_count": 539,
   "metadata": {},
   "outputs": [
    {
     "name": "stdout",
     "output_type": "stream",
     "text": [
      "1\t2\t3\t4\t\n",
      "\n",
      "4\t3\t2\t1\t"
     ]
    }
   ],
   "source": [
    "# List Going Forward\n",
    "llist.forward_print()\n",
    "# List Going Backward\n",
    "llist.backward_print()"
   ]
  },
  {
   "cell_type": "code",
   "execution_count": 547,
   "metadata": {},
   "outputs": [
    {
     "name": "stdout",
     "output_type": "stream",
     "text": [
      "Enter the data to insert: \n",
      "29\n"
     ]
    }
   ],
   "source": [
    "llist.insert_after()"
   ]
  },
  {
   "cell_type": "code",
   "execution_count": 548,
   "metadata": {},
   "outputs": [
    {
     "name": "stdout",
     "output_type": "stream",
     "text": [
      "29\t\n",
      "\n",
      "29\t"
     ]
    }
   ],
   "source": [
    "llist.forward_print()\n",
    "llist.backward_print()"
   ]
  },
  {
   "cell_type": "code",
   "execution_count": 549,
   "metadata": {},
   "outputs": [
    {
     "name": "stdout",
     "output_type": "stream",
     "text": [
      "Enter the node to delete: \n",
      "99\n",
      "Given Node is Not in the List\n"
     ]
    }
   ],
   "source": [
    "llist.delete_node()"
   ]
  },
  {
   "cell_type": "code",
   "execution_count": 550,
   "metadata": {},
   "outputs": [
    {
     "name": "stdout",
     "output_type": "stream",
     "text": [
      "29\t\n",
      "\n",
      "29\t"
     ]
    }
   ],
   "source": [
    "llist.forward_print()\n",
    "llist.backward_print()"
   ]
  },
  {
   "cell_type": "code",
   "execution_count": 551,
   "metadata": {},
   "outputs": [
    {
     "name": "stdout",
     "output_type": "stream",
     "text": [
      "Length of a list is : 1\n"
     ]
    }
   ],
   "source": [
    "llist.length()"
   ]
  },
  {
   "cell_type": "code",
   "execution_count": 552,
   "metadata": {},
   "outputs": [],
   "source": [
    "llist.clear_list()"
   ]
  },
  {
   "cell_type": "code",
   "execution_count": 553,
   "metadata": {},
   "outputs": [
    {
     "name": "stdout",
     "output_type": "stream",
     "text": [
      "\n",
      "\n"
     ]
    }
   ],
   "source": [
    "llist.forward_print()\n",
    "llist.backward_print()"
   ]
  },
  {
   "cell_type": "code",
   "execution_count": 556,
   "metadata": {},
   "outputs": [
    {
     "name": "stdout",
     "output_type": "stream",
     "text": [
      "Enter the Previous Node Data to insert NewNode into the linked list: \n",
      "1\n",
      "Enter an element to insert: \n",
      "2\n"
     ]
    }
   ],
   "source": [
    "llist.insert_after()"
   ]
  },
  {
   "cell_type": "code",
   "execution_count": 557,
   "metadata": {},
   "outputs": [
    {
     "name": "stdout",
     "output_type": "stream",
     "text": [
      "1\t2\t\n",
      "\n",
      "2\t1\t"
     ]
    }
   ],
   "source": [
    "llist.forward_print()\n",
    "llist.backward_print()"
   ]
  },
  {
   "cell_type": "code",
   "execution_count": null,
   "metadata": {},
   "outputs": [],
   "source": []
  }
 ],
 "metadata": {
  "kernelspec": {
   "display_name": "Python 3",
   "language": "python",
   "name": "python3"
  },
  "language_info": {
   "codemirror_mode": {
    "name": "ipython",
    "version": 3
   },
   "file_extension": ".py",
   "mimetype": "text/x-python",
   "name": "python",
   "nbconvert_exporter": "python",
   "pygments_lexer": "ipython3",
   "version": "3.7.6"
  }
 },
 "nbformat": 4,
 "nbformat_minor": 4
}
