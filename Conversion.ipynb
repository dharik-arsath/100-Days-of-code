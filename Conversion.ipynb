{
 "cells": [
  {
   "cell_type": "code",
   "execution_count": 1,
   "metadata": {},
   "outputs": [],
   "source": [
    "# Decimal to Binary conversion"
   ]
  },
  {
   "cell_type": "code",
   "execution_count": 34,
   "metadata": {},
   "outputs": [],
   "source": [
    "def decimal_to_binary(decimal:int)->list:\n",
    "    binary_list = list()\n",
    "    while decimal >= 1:\n",
    "        binary_list.append(decimal%2)\n",
    "        decimal //= 2\n",
    "    return binary_list[::-1]\n"
   ]
  },
  {
   "cell_type": "code",
   "execution_count": 48,
   "metadata": {},
   "outputs": [],
   "source": [
    "def binary_to_decimal(binary):\n",
    "    decimal_list = list()\n",
    "    \"\"\"\n",
    "    1010\n",
    "    0*2pow0->0    1*2pow1->2    0*2pow2->0    1*2pow3->8\n",
    "    \n",
    "    8+2 -> 10\n",
    "    \"\"\"\n",
    "    (i,decimal) = (0,0)\n",
    "    while binary!= 0:\n",
    "        dec = binary%10    # 26 -> 2\n",
    "        decimal = decimal + dec * pow(2,i) # 0 + (6 * 1) = 6, 6+(2*2pow1) = 10  \n",
    "        binary //= 10  # binary = binary // 2 -> 2 , binary = 2 // 10 = 0\n",
    "        i += 1\n",
    "    return decimal"
   ]
  },
  {
   "cell_type": "code",
   "execution_count": null,
   "metadata": {},
   "outputs": [],
   "source": []
  },
  {
   "cell_type": "code",
   "execution_count": null,
   "metadata": {},
   "outputs": [],
   "source": []
  },
  {
   "cell_type": "code",
   "execution_count": null,
   "metadata": {},
   "outputs": [],
   "source": []
  },
  {
   "cell_type": "code",
   "execution_count": null,
   "metadata": {},
   "outputs": [],
   "source": []
  },
  {
   "cell_type": "code",
   "execution_count": null,
   "metadata": {},
   "outputs": [],
   "source": []
  }
 ],
 "metadata": {
  "kernelspec": {
   "display_name": "Python 3",
   "language": "python",
   "name": "python3"
  },
  "language_info": {
   "codemirror_mode": {
    "name": "ipython",
    "version": 3
   },
   "file_extension": ".py",
   "mimetype": "text/x-python",
   "name": "python",
   "nbconvert_exporter": "python",
   "pygments_lexer": "ipython3",
   "version": "3.7.6"
  }
 },
 "nbformat": 4,
 "nbformat_minor": 4
}
