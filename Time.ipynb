{
 "cells": [
  {
   "cell_type": "markdown",
   "metadata": {},
   "source": [
    "### You want to convert the time from a 12 hour clock to a 24 hour clock. If you are given the time on a 12 hour clock you should output the time as it would appear on 24 hour clock\n",
    "\n",
    "### Task:\n",
    "   ### Determine whether given time is AM or PM ,then convert in such a way that would appear in 24 hour clock"
   ]
  },
  {
   "cell_type": "code",
   "execution_count": null,
   "metadata": {},
   "outputs": [],
   "source": [
    "# sample time -> input = 1:15PM ->13:15"
   ]
  },
  {
   "cell_type": "code",
   "execution_count": 232,
   "metadata": {},
   "outputs": [
    {
     "name": "stdout",
     "output_type": "stream",
     "text": [
      "1:59 PM\n"
     ]
    }
   ],
   "source": [
    "def convert_time(str1):\n",
    "    if str1[-2:] == 'AM' and str1[:2] == '12':\n",
    "        return '00'+str1[2:-3]\n",
    "    elif str1[-2:]=='AM':\n",
    "        print(str1[:])\n",
    "        return str1[:-2]\n",
    "\n",
    "    elif str1[-2:]=='PM' and str1[:2] == '12':\n",
    "        return str1[:-2]\n",
    "    else:\n",
    "        return str(int(str1[:2])+12)+ str1[2:-3]\n",
    "\n",
    "str1 = input().upper()\n",
    "if str1[1] == ':':\n",
    "    str1 = '0' + str1[:1] +':'+ str1[2:]\n"
   ]
  },
  {
   "cell_type": "code",
   "execution_count": 233,
   "metadata": {},
   "outputs": [
    {
     "data": {
      "text/plain": [
       "'13:59'"
      ]
     },
     "execution_count": 233,
     "metadata": {},
     "output_type": "execute_result"
    }
   ],
   "source": [
    "convert_time(str1)"
   ]
  },
  {
   "cell_type": "code",
   "execution_count": null,
   "metadata": {},
   "outputs": [],
   "source": []
  },
  {
   "cell_type": "code",
   "execution_count": null,
   "metadata": {},
   "outputs": [],
   "source": []
  },
  {
   "cell_type": "code",
   "execution_count": null,
   "metadata": {},
   "outputs": [],
   "source": []
  }
 ],
 "metadata": {
  "kernelspec": {
   "display_name": "Python 3",
   "language": "python",
   "name": "python3"
  },
  "language_info": {
   "codemirror_mode": {
    "name": "ipython",
    "version": 3
   },
   "file_extension": ".py",
   "mimetype": "text/x-python",
   "name": "python",
   "nbconvert_exporter": "python",
   "pygments_lexer": "ipython3",
   "version": "3.7.6"
  }
 },
 "nbformat": 4,
 "nbformat_minor": 4
}
