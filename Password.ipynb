{
 "cells": [
  {
   "cell_type": "code",
   "execution_count": 154,
   "metadata": {},
   "outputs": [],
   "source": [
    "\"\"\"\n",
    "\n",
    "This program is about password validation:\n",
    "Takes a string as input Next,\n",
    "The password should contain atleast:\n",
    "Atleast a Length of 7 chars, 2 Numbers , 2 Symbols:\n",
    "Example for strong and weak password:\n",
    "Strong passsword=Hello@21$\n",
    "Weak password=Hello3$\n",
    "Lets write a code for This Task:\n",
    "\n",
    "\"\"\"\n",
    "import re"
   ]
  },
  {
   "cell_type": "code",
   "execution_count": 164,
   "metadata": {},
   "outputs": [],
   "source": [
    "def check_symbol(password,symbols):\n",
    "    flag = 0\n",
    "    for i in range(len(symbols)):\n",
    "        for j in range(len(password)):\n",
    "            if(symbols[i] == password[j] and flag <= 2): #password[0] == symbols[0,1,2...]\n",
    "                flag += 1\n",
    "    \n",
    "    return flag"
   ]
  },
  {
   "cell_type": "code",
   "execution_count": 165,
   "metadata": {},
   "outputs": [],
   "source": [
    "symbols = ['!','@','#','$',\n",
    "           '%','*','&','.']"
   ]
  },
  {
   "cell_type": "code",
   "execution_count": 166,
   "metadata": {},
   "outputs": [
    {
     "name": "stdout",
     "output_type": "stream",
     "text": [
      "Enter your password: \n",
      "dharikarsath12@gmail.com\n"
     ]
    }
   ],
   "source": [
    "print(\"Enter your password: \")\n",
    "password = input()"
   ]
  },
  {
   "cell_type": "code",
   "execution_count": 167,
   "metadata": {},
   "outputs": [],
   "source": [
    "pass_char = lambda password : len(password) >= 7\n",
    "pass_char = pass_char(password)\n",
    "pass_numbers = lambda find_number:len((re.findall(r'[0-9]+', a))) \n",
    "pass_numbers = pass_numbers(password)\n",
    "\n",
    "flag = check_symbol(password,symbols)"
   ]
  },
  {
   "cell_type": "code",
   "execution_count": 168,
   "metadata": {},
   "outputs": [
    {
     "name": "stdout",
     "output_type": "stream",
     "text": [
      "The password you entered is Strong\n"
     ]
    }
   ],
   "source": [
    "if (pass_char) and (flag >= 2) and (pass_numbers >= 2):\n",
    "    print(\"The password you entered is Strong\")\n",
    "else:\n",
    "    print(\"The password you entered is Weak\")"
   ]
  },
  {
   "cell_type": "markdown",
   "metadata": {},
   "source": [
    "### map() function returns a map object(which is an iterator) of the results after applying the given function to each item of a given iterable (list, tuple etc.)\n",
    "\n",
    "##### Syntax :\n",
    "\n",
    "   ###### map(fun, iter)\n",
    "\n"
   ]
  },
  {
   "cell_type": "code",
   "execution_count": 163,
   "metadata": {},
   "outputs": [
    {
     "data": {
      "text/plain": [
       "'\\nmap,filter,lambda\\n'"
      ]
     },
     "execution_count": 163,
     "metadata": {},
     "output_type": "execute_result"
    }
   ],
   "source": [
    "'''\n",
    "map,filter,lambda\n",
    "'''"
   ]
  }
 ],
 "metadata": {
  "kernelspec": {
   "display_name": "Python 3",
   "language": "python",
   "name": "python3"
  },
  "language_info": {
   "codemirror_mode": {
    "name": "ipython",
    "version": 3
   },
   "file_extension": ".py",
   "mimetype": "text/x-python",
   "name": "python",
   "nbconvert_exporter": "python",
   "pygments_lexer": "ipython3",
   "version": "3.7.6"
  }
 },
 "nbformat": 4,
 "nbformat_minor": 4
}
