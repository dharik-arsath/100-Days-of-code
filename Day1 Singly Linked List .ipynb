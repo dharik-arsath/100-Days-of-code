{
 "cells": [
  {
   "cell_type": "markdown",
   "metadata": {},
   "source": [
    "<html>\n",
    "<head><center><h2>Doubly Linked List with two nodes </h2></center></head>\n",
    "    \n",
    "</html>"
   ]
  },
  {
   "cell_type": "code",
   "execution_count": 240,
   "metadata": {},
   "outputs": [],
   "source": [
    "class Node:\n",
    "    def __init__(self,data1,data2):\n",
    "        self.data1  = data1\n",
    "        self.data2 = data2\n",
    "        self.next  = None"
   ]
  },
  {
   "cell_type": "code",
   "execution_count": 241,
   "metadata": {},
   "outputs": [],
   "source": [
    "# Create a node with two data's in it and do this in dynamic way where\n",
    "# i can able to create as many nodes as my wish. \n",
    "\n",
    "class LinkedList:\n",
    "    def __init__(self):\n",
    "        self.head = None\n",
    "    \n",
    "    def get_input(self):\n",
    "        new_data1 = int(input())\n",
    "        new_data2 = int(input())  \n",
    "        new_node = Node(new_data1,new_data2)\n",
    "        return new_node\n",
    "    \n",
    "    def insert_at_head(self):\n",
    "        print(\"Enter a data to insert at head: \")\n",
    "        new_node = self.get_input()\n",
    "        new_node.next = self.head\n",
    "        self.head = new_node\n",
    "    \n",
    "    def insert_at_tail(self):\n",
    "        print(\"Enter a data to insert at tail: \")\n",
    "        new_node = self.get_input()\n",
    "        start = self.head\n",
    "        if (start!=None):\n",
    "            while(start.next!=None):\n",
    "                start = start.next\n",
    "                continue\n",
    "            start.next = new_node\n",
    "            new_node.next = None\n",
    "        else:\n",
    "            print(\"Create a list to insert elements at its tail\")\n",
    "\n",
    "    def insert_at_specific_position(self):\n",
    "        position = int(input(\"Enter the index of the position to insert data: \"))\n",
    "        new_node = self.get_input()\n",
    "        start = self.head\n",
    "        count = 0\n",
    "        if (position == 0):\n",
    "            new_node.next = self.head\n",
    "            self.head = new_node\n",
    "        else:\n",
    "            while(count < position-1):\n",
    "                start = start.next\n",
    "                count += 1\n",
    "            if start == None:\n",
    "                print(\" Invalid index \")\n",
    "            else:    \n",
    "                new_node.next = start.next\n",
    "                start.next = new_node\n",
    "    \n",
    "    \n",
    "    def delete_at_head(self):\n",
    "        self.head = self.head.next\n",
    "    \n",
    "    def delete_at_tail(self):\n",
    "        temp = self.head\n",
    "        if (temp!=None):\n",
    "            if(temp.next!=None):\n",
    "                while(temp.next.next!=None):\n",
    "                    temp = temp.next\n",
    "                    continue\n",
    "                temp.next = None\n",
    "            else:\n",
    "                self.head = None\n",
    "        else:\n",
    "            print(\"Empty list\")\n",
    "\n",
    "    def delete_at_specific_position(self):\n",
    "        print(\"Enter a index of a node to delete: \")\n",
    "        del_index = int(input())\n",
    "        temp = self.head\n",
    "        i = 0\n",
    "        while(i < del_index):\n",
    "            temp = temp.next\n",
    "            i += 1\n",
    "            continue\n",
    "        temp = temp.next.next\n",
    "    \n",
    "    def print_list(self):\n",
    "        temp = self.head\n",
    "        while(temp != None):\n",
    "            print(temp.data1,'\\t',temp.data2)\n",
    "            temp = temp.next"
   ]
  },
  {
   "cell_type": "code",
   "execution_count": 242,
   "metadata": {},
   "outputs": [],
   "source": [
    "link_list = LinkedList()"
   ]
  },
  {
   "cell_type": "code",
   "execution_count": 243,
   "metadata": {},
   "outputs": [
    {
     "name": "stdout",
     "output_type": "stream",
     "text": [
      "Enter a data to insert at head: \n",
      "1\n",
      "2\n"
     ]
    }
   ],
   "source": [
    "link_list.insert_at_head()"
   ]
  },
  {
   "cell_type": "code",
   "execution_count": 244,
   "metadata": {},
   "outputs": [
    {
     "name": "stdout",
     "output_type": "stream",
     "text": [
      "Enter a data to insert at tail: \n",
      "3\n",
      "4\n"
     ]
    }
   ],
   "source": [
    "link_list.insert_at_tail()"
   ]
  },
  {
   "cell_type": "code",
   "execution_count": 245,
   "metadata": {},
   "outputs": [
    {
     "name": "stdout",
     "output_type": "stream",
     "text": [
      "1 \t 2\n",
      "3 \t 4\n"
     ]
    }
   ],
   "source": [
    "link_list.print_list()"
   ]
  },
  {
   "cell_type": "code",
   "execution_count": 246,
   "metadata": {},
   "outputs": [
    {
     "name": "stdout",
     "output_type": "stream",
     "text": [
      "Enter the index of the position to insert data: 0\n",
      "0\n",
      "0\n"
     ]
    }
   ],
   "source": [
    "link_list.insert_at_specific_position()"
   ]
  },
  {
   "cell_type": "code",
   "execution_count": 247,
   "metadata": {},
   "outputs": [
    {
     "name": "stdout",
     "output_type": "stream",
     "text": [
      "0 \t 0\n",
      "1 \t 2\n",
      "3 \t 4\n"
     ]
    }
   ],
   "source": [
    "link_list.print_list()"
   ]
  },
  {
   "cell_type": "code",
   "execution_count": 248,
   "metadata": {},
   "outputs": [],
   "source": [
    "link_list.delete_at_head()"
   ]
  },
  {
   "cell_type": "code",
   "execution_count": 249,
   "metadata": {},
   "outputs": [],
   "source": [
    "link_list.delete_at_tail()"
   ]
  },
  {
   "cell_type": "code",
   "execution_count": 250,
   "metadata": {},
   "outputs": [
    {
     "name": "stdout",
     "output_type": "stream",
     "text": [
      "1 \t 2\n"
     ]
    }
   ],
   "source": [
    "link_list.print_list()"
   ]
  },
  {
   "cell_type": "code",
   "execution_count": null,
   "metadata": {},
   "outputs": [],
   "source": [
    "\"\"\"When I was developing this code the error I got is\n",
    "UnboundLocalError as this error happens because of the problem in the scope\n",
    "\n",
    "I forgot to put (self)which is a  current instance of a class\n",
    "which tells the memory ''' for (this) time do this'''.\n",
    "\"\"\""
   ]
  },
  {
   "cell_type": "code",
   "execution_count": null,
   "metadata": {},
   "outputs": [],
   "source": [
    "\"\"\" The error I got when I tried to zip two numbers is that zip elements \n",
    "should be \n",
    "\n",
    "        ----->Iterable\n",
    "\n",
    "\"\"\""
   ]
  },
  {
   "cell_type": "code",
   "execution_count": null,
   "metadata": {},
   "outputs": [],
   "source": [
    "\"\"\" When creating a object for a class it is important to put () brackets\n",
    "    otherwise it will call self\n",
    "\n",
    "\"\"\""
   ]
  },
  {
   "cell_type": "code",
   "execution_count": 258,
   "metadata": {},
   "outputs": [
    {
     "data": {
      "text/plain": [
       "(('Jaya Devan', 23),\n",
       " ('Dharik Arsath', 33),\n",
       " ('Arun Pandian', 44),\n",
       " ('Kesava Kumar', 55))"
      ]
     },
     "execution_count": 258,
     "metadata": {},
     "output_type": "execute_result"
    }
   ],
   "source": [
    "names = 'Jaya Devan','Dharik Arsath','Arun Pandian','Kesava Kumar'\n",
    "marks = 23,33,44,55,66\n",
    "tuple(zip(names,marks))"
   ]
  }
 ],
 "metadata": {
  "kernelspec": {
   "display_name": "Python 3",
   "language": "python",
   "name": "python3"
  },
  "language_info": {
   "codemirror_mode": {
    "name": "ipython",
    "version": 3
   },
   "file_extension": ".py",
   "mimetype": "text/x-python",
   "name": "python",
   "nbconvert_exporter": "python",
   "pygments_lexer": "ipython3",
   "version": "3.7.6"
  }
 },
 "nbformat": 4,
 "nbformat_minor": 4
}
