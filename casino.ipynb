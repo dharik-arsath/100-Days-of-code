{
 "cells": [
  {
   "cell_type": "code",
   "execution_count": null,
   "metadata": {},
   "outputs": [],
   "source": [
    "'''\n",
    "Task:\n",
    "    Evaluate a given floor of the casino to determine if there is a \n",
    "    guard between the money and theif, if there is not you will \n",
    "    sound an alarm.\n",
    "    \n",
    "Input:\n",
    "    A string of characters that includes $ for Money, G for Guard \n",
    "    and T for Theif that represents the layout of the casino floor\n",
    "    space on the casino floor that are not occupied by theif,guard or \n",
    "    money is represented by character X\n",
    "    \n",
    "\n",
    "'''"
   ]
  },
  {
   "cell_type": "code",
   "execution_count": null,
   "metadata": {},
   "outputs": [],
   "source": [
    "inp = input()\n",
    "# replace all the x value with ''\n",
    "inp = inp.replace('x',\"\")\n",
    "index_money = inp.index('$')# finding the index of $\n",
    "index_thief = inp.index('T')# finding the index of Theif\n",
    "\n",
    "# If Theif and Money are neared it would give 1 when we subract them\n",
    "\n",
    "if (index_thief - index_money) == 1 or (index_money - index_thief) == 1: \n",
    "    print(\"ALARM\")\n",
    "else:\n",
    "    print('quiet')"
   ]
  },
  {
   "cell_type": "code",
   "execution_count": null,
   "metadata": {},
   "outputs": [],
   "source": []
  }
 ],
 "metadata": {
  "kernelspec": {
   "display_name": "Python 3",
   "language": "python",
   "name": "python3"
  },
  "language_info": {
   "codemirror_mode": {
    "name": "ipython",
    "version": 3
   },
   "file_extension": ".py",
   "mimetype": "text/x-python",
   "name": "python",
   "nbconvert_exporter": "python",
   "pygments_lexer": "ipython3",
   "version": "3.7.6"
  }
 },
 "nbformat": 4,
 "nbformat_minor": 4
}
